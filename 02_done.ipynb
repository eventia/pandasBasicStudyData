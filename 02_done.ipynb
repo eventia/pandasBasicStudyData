{
  "nbformat": 4,
  "nbformat_minor": 0,
  "metadata": {
    "kernelspec": {
      "display_name": "Python 3",
      "language": "python",
      "name": "python3"
    },
    "language_info": {
      "codemirror_mode": {
        "name": "ipython",
        "version": 3
      },
      "file_extension": ".py",
      "mimetype": "text/x-python",
      "name": "python",
      "nbconvert_exporter": "python",
      "pygments_lexer": "ipython3",
      "version": "3.6.5"
    },
    "colab": {
      "name": "02_done.ipynb",
      "provenance": [],
      "include_colab_link": true
    }
  },
  "cells": [
    {
      "cell_type": "markdown",
      "metadata": {
        "id": "view-in-github",
        "colab_type": "text"
      },
      "source": [
        "<a href=\"https://colab.research.google.com/github/eventia/pandasBasicStudyData/blob/master/02_done.ipynb\" target=\"_parent\"><img src=\"https://colab.research.google.com/assets/colab-badge.svg\" alt=\"Open In Colab\"/></a>"
      ]
    },
    {
      "cell_type": "code",
      "metadata": {
        "id": "tXgMCHm-hCjM",
        "colab_type": "code",
        "colab": {}
      },
      "source": [
        "try:\n",
        "    if jdzntakbx_upload == True:\n",
        "        print('Data Uploaded')\n",
        "    else :\n",
        "        print('Data uploaded Error')\n",
        "except :\n",
        "    jdzntakbx_upload = False\n",
        "    !git clone https://github.com/MLBasic/pandasBasicStudyData.git\n",
        "    %cd /content/pandasBasicStudyData/notebook/\n",
        "    jdzntakbx_upload = True"
      ],
      "execution_count": 0,
      "outputs": []
    },
    {
      "cell_type": "markdown",
      "metadata": {
        "id": "HW9r-cTfg-7h",
        "colab_type": "text"
      },
      "source": [
        "# 직접 해보세요! \n",
        "## 갭마인더 데이터 집합 불러오기(28쪽)"
      ]
    },
    {
      "cell_type": "code",
      "metadata": {
        "id": "gHWK4KjHg-7i",
        "colab_type": "code",
        "colab": {}
      },
      "source": [
        "import pandas"
      ],
      "execution_count": 0,
      "outputs": []
    },
    {
      "cell_type": "code",
      "metadata": {
        "id": "GtVT-3YAg-7m",
        "colab_type": "code",
        "colab": {}
      },
      "source": [
        "df = pandas.read_csv('../data/gapminder.tsv', sep='\\t')"
      ],
      "execution_count": 0,
      "outputs": []
    },
    {
      "cell_type": "code",
      "metadata": {
        "id": "uoc-_-1pg-7o",
        "colab_type": "code",
        "colab": {}
      },
      "source": [
        "import pandas as pd\n",
        "df = pd.read_csv('../data/gapminder.tsv', sep='\\t')"
      ],
      "execution_count": 0,
      "outputs": []
    },
    {
      "cell_type": "markdown",
      "metadata": {
        "id": "AY7QoxT6g-7r",
        "colab_type": "text"
      },
      "source": [
        "# 직접 해보세요!\n",
        "## 불러온 데이터 집합 살펴보기(29쪽)"
      ]
    },
    {
      "cell_type": "code",
      "metadata": {
        "id": "HVNFBUh4g-7s",
        "colab_type": "code",
        "outputId": "1e7d48d5-80ad-4d2f-bab3-76f981021d55",
        "colab": {}
      },
      "source": [
        "print(df.head())"
      ],
      "execution_count": 0,
      "outputs": [
        {
          "output_type": "stream",
          "text": [
            "       country continent  year  lifeExp       pop   gdpPercap\n",
            "0  Afghanistan      Asia  1952   28.801   8425333  779.445314\n",
            "1  Afghanistan      Asia  1957   30.332   9240934  820.853030\n",
            "2  Afghanistan      Asia  1962   31.997  10267083  853.100710\n",
            "3  Afghanistan      Asia  1967   34.020  11537966  836.197138\n",
            "4  Afghanistan      Asia  1972   36.088  13079460  739.981106\n"
          ],
          "name": "stdout"
        }
      ]
    },
    {
      "cell_type": "code",
      "metadata": {
        "id": "plYx7mwbg-7v",
        "colab_type": "code",
        "outputId": "35d62456-df5e-4c82-d035-3176d8229a6a",
        "colab": {}
      },
      "source": [
        "print(type(df))"
      ],
      "execution_count": 0,
      "outputs": [
        {
          "output_type": "stream",
          "text": [
            "<class 'pandas.core.frame.DataFrame'>\n"
          ],
          "name": "stdout"
        }
      ]
    },
    {
      "cell_type": "code",
      "metadata": {
        "id": "oodR7Ih3g-7x",
        "colab_type": "code",
        "outputId": "8f43607b-cf96-41ed-d1af-5f3bbbbafb80",
        "colab": {}
      },
      "source": [
        "print(df.shape)\n",
        "# print(df.shape[0])\n",
        "# print(df.shape[1])"
      ],
      "execution_count": 0,
      "outputs": [
        {
          "output_type": "stream",
          "text": [
            "(1704, 6)\n"
          ],
          "name": "stdout"
        }
      ]
    },
    {
      "cell_type": "code",
      "metadata": {
        "id": "mxVqOthyg-7z",
        "colab_type": "code",
        "outputId": "6892fb0a-4cfa-42c0-ff4e-99c8c0b4c8c7",
        "colab": {}
      },
      "source": [
        "print(df.columns)"
      ],
      "execution_count": 0,
      "outputs": [
        {
          "output_type": "stream",
          "text": [
            "Index(['country', 'continent', 'year', 'lifeExp', 'pop', 'gdpPercap'], dtype='object')\n"
          ],
          "name": "stdout"
        }
      ]
    },
    {
      "cell_type": "code",
      "metadata": {
        "id": "faIPMwwXg-72",
        "colab_type": "code",
        "outputId": "e920f735-d050-4f28-82d9-d7a89c0f9510",
        "colab": {}
      },
      "source": [
        "print(df.dtypes)"
      ],
      "execution_count": 0,
      "outputs": [
        {
          "output_type": "stream",
          "text": [
            "country       object\n",
            "continent     object\n",
            "year           int64\n",
            "lifeExp      float64\n",
            "pop            int64\n",
            "gdpPercap    float64\n",
            "dtype: object\n"
          ],
          "name": "stdout"
        }
      ]
    },
    {
      "cell_type": "code",
      "metadata": {
        "id": "lsv01U0gg-74",
        "colab_type": "code",
        "outputId": "e23acee3-594b-481c-ed3d-1facd456210e",
        "colab": {}
      },
      "source": [
        "print(df.info())"
      ],
      "execution_count": 0,
      "outputs": [
        {
          "output_type": "stream",
          "text": [
            "<class 'pandas.core.frame.DataFrame'>\n",
            "RangeIndex: 1704 entries, 0 to 1703\n",
            "Data columns (total 6 columns):\n",
            "country      1704 non-null object\n",
            "continent    1704 non-null object\n",
            "year         1704 non-null int64\n",
            "lifeExp      1704 non-null float64\n",
            "pop          1704 non-null int64\n",
            "gdpPercap    1704 non-null float64\n",
            "dtypes: float64(2), int64(2), object(2)\n",
            "memory usage: 80.0+ KB\n",
            "None\n"
          ],
          "name": "stdout"
        }
      ]
    },
    {
      "cell_type": "markdown",
      "metadata": {
        "id": "cZPUwIK1g-76",
        "colab_type": "text"
      },
      "source": [
        "# 직접 해보세요!\n",
        "## 열 단위로 데이터 추출하기(32쪽)"
      ]
    },
    {
      "cell_type": "code",
      "metadata": {
        "id": "_odoXRAfg-76",
        "colab_type": "code",
        "outputId": "b2b9afb8-ed49-4c05-c85e-f3f434b8d5cb",
        "colab": {}
      },
      "source": [
        "country_df = df['country']\n",
        "\n",
        "print(type(country_df))"
      ],
      "execution_count": 0,
      "outputs": [
        {
          "output_type": "stream",
          "text": [
            "<class 'pandas.core.series.Series'>\n"
          ],
          "name": "stdout"
        }
      ]
    },
    {
      "cell_type": "code",
      "metadata": {
        "id": "_MH2l4PVg-7-",
        "colab_type": "code",
        "outputId": "0a0b6ea6-4917-4f68-ca86-88b704d1fad0",
        "colab": {}
      },
      "source": [
        "print(country_df.head())"
      ],
      "execution_count": 0,
      "outputs": [
        {
          "output_type": "stream",
          "text": [
            "0    Afghanistan\n",
            "1    Afghanistan\n",
            "2    Afghanistan\n",
            "3    Afghanistan\n",
            "4    Afghanistan\n",
            "Name: country, dtype: object\n"
          ],
          "name": "stdout"
        }
      ]
    },
    {
      "cell_type": "code",
      "metadata": {
        "id": "rtRpCFXpg-8A",
        "colab_type": "code",
        "outputId": "ea17a787-8149-4b82-f587-15f368a22489",
        "colab": {}
      },
      "source": [
        "print(country_df.tail())"
      ],
      "execution_count": 0,
      "outputs": [
        {
          "output_type": "stream",
          "text": [
            "1699    Zimbabwe\n",
            "1700    Zimbabwe\n",
            "1701    Zimbabwe\n",
            "1702    Zimbabwe\n",
            "1703    Zimbabwe\n",
            "Name: country, dtype: object\n"
          ],
          "name": "stdout"
        }
      ]
    },
    {
      "cell_type": "code",
      "metadata": {
        "id": "GPXV84nug-8D",
        "colab_type": "code",
        "outputId": "89abfd78-e6b0-46f1-9a15-6080746e521d",
        "colab": {}
      },
      "source": [
        "subset = df[['country', 'continent', 'year']]\n",
        "\n",
        "print(type(subset))"
      ],
      "execution_count": 0,
      "outputs": [
        {
          "output_type": "stream",
          "text": [
            "<class 'pandas.core.frame.DataFrame'>\n"
          ],
          "name": "stdout"
        }
      ]
    },
    {
      "cell_type": "code",
      "metadata": {
        "id": "qR6po6uSg-8F",
        "colab_type": "code",
        "outputId": "6d898d22-aa60-4636-cdd3-fe6a20eee8e8",
        "colab": {}
      },
      "source": [
        "print(subset.head())"
      ],
      "execution_count": 0,
      "outputs": [
        {
          "output_type": "stream",
          "text": [
            "       country continent  year\n",
            "0  Afghanistan      Asia  1952\n",
            "1  Afghanistan      Asia  1957\n",
            "2  Afghanistan      Asia  1962\n",
            "3  Afghanistan      Asia  1967\n",
            "4  Afghanistan      Asia  1972\n"
          ],
          "name": "stdout"
        }
      ]
    },
    {
      "cell_type": "code",
      "metadata": {
        "id": "7qZkMYdkg-8G",
        "colab_type": "code",
        "outputId": "06e124c7-8bba-4c86-d1a0-a0644734bfd5",
        "colab": {}
      },
      "source": [
        "print(subset.tail())"
      ],
      "execution_count": 0,
      "outputs": [
        {
          "output_type": "stream",
          "text": [
            "       country continent  year\n",
            "1699  Zimbabwe    Africa  1987\n",
            "1700  Zimbabwe    Africa  1992\n",
            "1701  Zimbabwe    Africa  1997\n",
            "1702  Zimbabwe    Africa  2002\n",
            "1703  Zimbabwe    Africa  2007\n"
          ],
          "name": "stdout"
        }
      ]
    },
    {
      "cell_type": "markdown",
      "metadata": {
        "id": "_W-eUhJHg-8I",
        "colab_type": "text"
      },
      "source": [
        "# 직접 해보세요!\n",
        "## loc 속성으로 행 단위 데이터 추출하기(35쪽)"
      ]
    },
    {
      "cell_type": "code",
      "metadata": {
        "id": "MwXTgDUvg-8I",
        "colab_type": "code",
        "outputId": "72b195c1-6833-4dc3-93e2-54a46df62fa6",
        "colab": {}
      },
      "source": [
        "print(df.loc[0])"
      ],
      "execution_count": 0,
      "outputs": [
        {
          "output_type": "stream",
          "text": [
            "country      Afghanistan\n",
            "continent           Asia\n",
            "year                1952\n",
            "lifeExp           28.801\n",
            "pop              8425333\n",
            "gdpPercap        779.445\n",
            "Name: 0, dtype: object\n"
          ],
          "name": "stdout"
        }
      ]
    },
    {
      "cell_type": "code",
      "metadata": {
        "id": "GEGzZIWvg-8K",
        "colab_type": "code",
        "outputId": "1dbea6e1-956d-4fe8-ab18-77dc89087b0d",
        "colab": {}
      },
      "source": [
        "print(df.loc[99])"
      ],
      "execution_count": 0,
      "outputs": [
        {
          "output_type": "stream",
          "text": [
            "country      Bangladesh\n",
            "continent          Asia\n",
            "year               1967\n",
            "lifeExp          43.453\n",
            "pop            62821884\n",
            "gdpPercap       721.186\n",
            "Name: 99, dtype: object\n"
          ],
          "name": "stdout"
        }
      ]
    },
    {
      "cell_type": "code",
      "metadata": {
        "id": "CX248TX6g-8N",
        "colab_type": "code",
        "outputId": "526135b1-ad55-4377-a573-ca7325d0751e",
        "colab": {}
      },
      "source": [
        "print(df.loc[-1])"
      ],
      "execution_count": 0,
      "outputs": [
        {
          "output_type": "error",
          "ename": "KeyError",
          "evalue": "'the label [-1] is not in the [index]'",
          "traceback": [
            "\u001b[1;31m---------------------------------------------------------------------------\u001b[0m",
            "\u001b[1;31mKeyError\u001b[0m                                  Traceback (most recent call last)",
            "\u001b[1;32m~\\Anaconda3\\lib\\site-packages\\pandas\\core\\indexing.py\u001b[0m in \u001b[0;36m_validate_key\u001b[1;34m(self, key, axis)\u001b[0m\n\u001b[0;32m   1789\u001b[0m                 \u001b[1;32mif\u001b[0m \u001b[1;32mnot\u001b[0m \u001b[0max\u001b[0m\u001b[1;33m.\u001b[0m\u001b[0mcontains\u001b[0m\u001b[1;33m(\u001b[0m\u001b[0mkey\u001b[0m\u001b[1;33m)\u001b[0m\u001b[1;33m:\u001b[0m\u001b[1;33m\u001b[0m\u001b[0m\n\u001b[1;32m-> 1790\u001b[1;33m                     \u001b[0merror\u001b[0m\u001b[1;33m(\u001b[0m\u001b[1;33m)\u001b[0m\u001b[1;33m\u001b[0m\u001b[0m\n\u001b[0m\u001b[0;32m   1791\u001b[0m             \u001b[1;32mexcept\u001b[0m \u001b[0mTypeError\u001b[0m \u001b[1;32mas\u001b[0m \u001b[0me\u001b[0m\u001b[1;33m:\u001b[0m\u001b[1;33m\u001b[0m\u001b[0m\n",
            "\u001b[1;32m~\\Anaconda3\\lib\\site-packages\\pandas\\core\\indexing.py\u001b[0m in \u001b[0;36merror\u001b[1;34m()\u001b[0m\n\u001b[0;32m   1784\u001b[0m                                .format(key=key,\n\u001b[1;32m-> 1785\u001b[1;33m                                        axis=self.obj._get_axis_name(axis)))\n\u001b[0m\u001b[0;32m   1786\u001b[0m \u001b[1;33m\u001b[0m\u001b[0m\n",
            "\u001b[1;31mKeyError\u001b[0m: 'the label [-1] is not in the [index]'",
            "\nDuring handling of the above exception, another exception occurred:\n",
            "\u001b[1;31mKeyError\u001b[0m                                  Traceback (most recent call last)",
            "\u001b[1;32m<ipython-input-18-5c20936c1280>\u001b[0m in \u001b[0;36m<module>\u001b[1;34m()\u001b[0m\n\u001b[1;32m----> 1\u001b[1;33m \u001b[0mprint\u001b[0m\u001b[1;33m(\u001b[0m\u001b[0mdf\u001b[0m\u001b[1;33m.\u001b[0m\u001b[0mloc\u001b[0m\u001b[1;33m[\u001b[0m\u001b[1;33m-\u001b[0m\u001b[1;36m1\u001b[0m\u001b[1;33m]\u001b[0m\u001b[1;33m)\u001b[0m\u001b[1;33m\u001b[0m\u001b[0m\n\u001b[0m",
            "\u001b[1;32m~\\Anaconda3\\lib\\site-packages\\pandas\\core\\indexing.py\u001b[0m in \u001b[0;36m__getitem__\u001b[1;34m(self, key)\u001b[0m\n\u001b[0;32m   1476\u001b[0m \u001b[1;33m\u001b[0m\u001b[0m\n\u001b[0;32m   1477\u001b[0m             \u001b[0mmaybe_callable\u001b[0m \u001b[1;33m=\u001b[0m \u001b[0mcom\u001b[0m\u001b[1;33m.\u001b[0m\u001b[0m_apply_if_callable\u001b[0m\u001b[1;33m(\u001b[0m\u001b[0mkey\u001b[0m\u001b[1;33m,\u001b[0m \u001b[0mself\u001b[0m\u001b[1;33m.\u001b[0m\u001b[0mobj\u001b[0m\u001b[1;33m)\u001b[0m\u001b[1;33m\u001b[0m\u001b[0m\n\u001b[1;32m-> 1478\u001b[1;33m             \u001b[1;32mreturn\u001b[0m \u001b[0mself\u001b[0m\u001b[1;33m.\u001b[0m\u001b[0m_getitem_axis\u001b[0m\u001b[1;33m(\u001b[0m\u001b[0mmaybe_callable\u001b[0m\u001b[1;33m,\u001b[0m \u001b[0maxis\u001b[0m\u001b[1;33m=\u001b[0m\u001b[0maxis\u001b[0m\u001b[1;33m)\u001b[0m\u001b[1;33m\u001b[0m\u001b[0m\n\u001b[0m\u001b[0;32m   1479\u001b[0m \u001b[1;33m\u001b[0m\u001b[0m\n\u001b[0;32m   1480\u001b[0m     \u001b[1;32mdef\u001b[0m \u001b[0m_is_scalar_access\u001b[0m\u001b[1;33m(\u001b[0m\u001b[0mself\u001b[0m\u001b[1;33m,\u001b[0m \u001b[0mkey\u001b[0m\u001b[1;33m)\u001b[0m\u001b[1;33m:\u001b[0m\u001b[1;33m\u001b[0m\u001b[0m\n",
            "\u001b[1;32m~\\Anaconda3\\lib\\site-packages\\pandas\\core\\indexing.py\u001b[0m in \u001b[0;36m_getitem_axis\u001b[1;34m(self, key, axis)\u001b[0m\n\u001b[0;32m   1909\u001b[0m \u001b[1;33m\u001b[0m\u001b[0m\n\u001b[0;32m   1910\u001b[0m         \u001b[1;31m# fall thru to straight lookup\u001b[0m\u001b[1;33m\u001b[0m\u001b[1;33m\u001b[0m\u001b[0m\n\u001b[1;32m-> 1911\u001b[1;33m         \u001b[0mself\u001b[0m\u001b[1;33m.\u001b[0m\u001b[0m_validate_key\u001b[0m\u001b[1;33m(\u001b[0m\u001b[0mkey\u001b[0m\u001b[1;33m,\u001b[0m \u001b[0maxis\u001b[0m\u001b[1;33m)\u001b[0m\u001b[1;33m\u001b[0m\u001b[0m\n\u001b[0m\u001b[0;32m   1912\u001b[0m         \u001b[1;32mreturn\u001b[0m \u001b[0mself\u001b[0m\u001b[1;33m.\u001b[0m\u001b[0m_get_label\u001b[0m\u001b[1;33m(\u001b[0m\u001b[0mkey\u001b[0m\u001b[1;33m,\u001b[0m \u001b[0maxis\u001b[0m\u001b[1;33m=\u001b[0m\u001b[0maxis\u001b[0m\u001b[1;33m)\u001b[0m\u001b[1;33m\u001b[0m\u001b[0m\n\u001b[0;32m   1913\u001b[0m \u001b[1;33m\u001b[0m\u001b[0m\n",
            "\u001b[1;32m~\\Anaconda3\\lib\\site-packages\\pandas\\core\\indexing.py\u001b[0m in \u001b[0;36m_validate_key\u001b[1;34m(self, key, axis)\u001b[0m\n\u001b[0;32m   1796\u001b[0m                 \u001b[1;32mraise\u001b[0m\u001b[1;33m\u001b[0m\u001b[0m\n\u001b[0;32m   1797\u001b[0m             \u001b[1;32mexcept\u001b[0m\u001b[1;33m:\u001b[0m\u001b[1;33m\u001b[0m\u001b[0m\n\u001b[1;32m-> 1798\u001b[1;33m                 \u001b[0merror\u001b[0m\u001b[1;33m(\u001b[0m\u001b[1;33m)\u001b[0m\u001b[1;33m\u001b[0m\u001b[0m\n\u001b[0m\u001b[0;32m   1799\u001b[0m \u001b[1;33m\u001b[0m\u001b[0m\n\u001b[0;32m   1800\u001b[0m     \u001b[1;32mdef\u001b[0m \u001b[0m_is_scalar_access\u001b[0m\u001b[1;33m(\u001b[0m\u001b[0mself\u001b[0m\u001b[1;33m,\u001b[0m \u001b[0mkey\u001b[0m\u001b[1;33m)\u001b[0m\u001b[1;33m:\u001b[0m\u001b[1;33m\u001b[0m\u001b[0m\n",
            "\u001b[1;32m~\\Anaconda3\\lib\\site-packages\\pandas\\core\\indexing.py\u001b[0m in \u001b[0;36merror\u001b[1;34m()\u001b[0m\n\u001b[0;32m   1783\u001b[0m                 raise KeyError(u\"the label [{key}] is not in the [{axis}]\"\n\u001b[0;32m   1784\u001b[0m                                .format(key=key,\n\u001b[1;32m-> 1785\u001b[1;33m                                        axis=self.obj._get_axis_name(axis)))\n\u001b[0m\u001b[0;32m   1786\u001b[0m \u001b[1;33m\u001b[0m\u001b[0m\n\u001b[0;32m   1787\u001b[0m             \u001b[1;32mtry\u001b[0m\u001b[1;33m:\u001b[0m\u001b[1;33m\u001b[0m\u001b[0m\n",
            "\u001b[1;31mKeyError\u001b[0m: 'the label [-1] is not in the [index]'"
          ]
        }
      ]
    },
    {
      "cell_type": "code",
      "metadata": {
        "id": "NWQ3hR-Ug-8P",
        "colab_type": "code",
        "outputId": "4f9fdbfb-4a52-4141-8878-f47f8edf57a4",
        "colab": {}
      },
      "source": [
        "number_of_rows = df.shape[0]\n",
        "last_row_index = number_of_rows - 1\n",
        "\n",
        "print(df.loc[last_row_index])"
      ],
      "execution_count": 0,
      "outputs": [
        {
          "output_type": "stream",
          "text": [
            "country      Zimbabwe\n",
            "continent      Africa\n",
            "year             2007\n",
            "lifeExp        43.487\n",
            "pop          12311143\n",
            "gdpPercap     469.709\n",
            "Name: 1703, dtype: object\n"
          ],
          "name": "stdout"
        }
      ]
    },
    {
      "cell_type": "code",
      "metadata": {
        "id": "zLcb_US-g-8R",
        "colab_type": "code",
        "outputId": "d7c498d8-2357-4f59-f64e-d3f9628ee8a5",
        "colab": {}
      },
      "source": [
        "print(df.tail(n=1))"
      ],
      "execution_count": 0,
      "outputs": [
        {
          "output_type": "stream",
          "text": [
            "       country continent  year  lifeExp       pop   gdpPercap\n",
            "1703  Zimbabwe    Africa  2007   43.487  12311143  469.709298\n"
          ],
          "name": "stdout"
        }
      ]
    },
    {
      "cell_type": "code",
      "metadata": {
        "id": "gAuNQkomg-8S",
        "colab_type": "code",
        "outputId": "d993fce2-648d-417c-f600-aa31040947d6",
        "colab": {}
      },
      "source": [
        "print(df.tail(n=2))"
      ],
      "execution_count": 0,
      "outputs": [
        {
          "output_type": "stream",
          "text": [
            "       country continent  year  lifeExp       pop   gdpPercap\n",
            "1702  Zimbabwe    Africa  2002   39.989  11926563  672.038623\n",
            "1703  Zimbabwe    Africa  2007   43.487  12311143  469.709298\n"
          ],
          "name": "stdout"
        }
      ]
    },
    {
      "cell_type": "code",
      "metadata": {
        "id": "cRu3BpMtg-8U",
        "colab_type": "code",
        "outputId": "da1c9fba-2211-4b70-915f-d46df2bd7a4b",
        "colab": {}
      },
      "source": [
        "print(df.loc[[0, 99, 999]])"
      ],
      "execution_count": 0,
      "outputs": [
        {
          "output_type": "stream",
          "text": [
            "         country continent  year  lifeExp       pop    gdpPercap\n",
            "0    Afghanistan      Asia  1952   28.801   8425333   779.445314\n",
            "99    Bangladesh      Asia  1967   43.453  62821884   721.186086\n",
            "999     Mongolia      Asia  1967   51.253   1149500  1226.041130\n"
          ],
          "name": "stdout"
        }
      ]
    },
    {
      "cell_type": "markdown",
      "metadata": {
        "id": "PPlLkqJMg-8W",
        "colab_type": "text"
      },
      "source": [
        "# 알아두면 좋아요!\n",
        "## tail 메서드와 loc 속성이 반환하는 자료형은 서로 달라요!(37쪽)"
      ]
    },
    {
      "cell_type": "code",
      "metadata": {
        "id": "ibsE-jcyg-8W",
        "colab_type": "code",
        "outputId": "2a82f0ce-5691-429f-d6c8-f714ed3acac3",
        "colab": {}
      },
      "source": [
        "subset_loc = df.loc[0] \n",
        "subset_tail = df.tail(n=1)\n",
        "\n",
        "print(type(subset_loc))\n",
        "print(type(subset_tail))"
      ],
      "execution_count": 0,
      "outputs": [
        {
          "output_type": "stream",
          "text": [
            "<class 'pandas.core.series.Series'>\n",
            "<class 'pandas.core.frame.DataFrame'>\n"
          ],
          "name": "stdout"
        }
      ]
    },
    {
      "cell_type": "markdown",
      "metadata": {
        "id": "RI1W7DeNg-8Y",
        "colab_type": "text"
      },
      "source": [
        "# 직접 해보세요!\n",
        "## iloc 속성으로 행 데이터 추출하기(37쪽)"
      ]
    },
    {
      "cell_type": "code",
      "metadata": {
        "id": "nd99533jg-8Y",
        "colab_type": "code",
        "outputId": "4f2093ca-49f5-4633-df6c-c43dac02bd09",
        "colab": {}
      },
      "source": [
        "print(df.iloc[1])"
      ],
      "execution_count": 0,
      "outputs": [
        {
          "output_type": "stream",
          "text": [
            "country      Afghanistan\n",
            "continent           Asia\n",
            "year                1957\n",
            "lifeExp           30.332\n",
            "pop              9240934\n",
            "gdpPercap        820.853\n",
            "Name: 1, dtype: object\n"
          ],
          "name": "stdout"
        }
      ]
    },
    {
      "cell_type": "code",
      "metadata": {
        "id": "5ihOW3B0g-8a",
        "colab_type": "code",
        "outputId": "f1403437-adcf-4242-95f3-d15a64837e86",
        "colab": {}
      },
      "source": [
        "print(df.iloc[99])"
      ],
      "execution_count": 0,
      "outputs": [
        {
          "output_type": "stream",
          "text": [
            "country      Bangladesh\n",
            "continent          Asia\n",
            "year               1967\n",
            "lifeExp          43.453\n",
            "pop            62821884\n",
            "gdpPercap       721.186\n",
            "Name: 99, dtype: object\n"
          ],
          "name": "stdout"
        }
      ]
    },
    {
      "cell_type": "code",
      "metadata": {
        "id": "HtUplwWsg-8c",
        "colab_type": "code",
        "outputId": "1c6eecb3-4a70-4099-fad3-1f1d95599bbb",
        "colab": {}
      },
      "source": [
        "print(df.iloc[-1])"
      ],
      "execution_count": 0,
      "outputs": [
        {
          "output_type": "stream",
          "text": [
            "country      Zimbabwe\n",
            "continent      Africa\n",
            "year             2007\n",
            "lifeExp        43.487\n",
            "pop          12311143\n",
            "gdpPercap     469.709\n",
            "Name: 1703, dtype: object\n"
          ],
          "name": "stdout"
        }
      ]
    },
    {
      "cell_type": "code",
      "metadata": {
        "id": "IYwe3GqQg-8e",
        "colab_type": "code",
        "outputId": "05817c31-4780-4f01-e8a4-1b57e1cbdc84",
        "colab": {}
      },
      "source": [
        "print(df.iloc[1710])"
      ],
      "execution_count": 0,
      "outputs": [
        {
          "output_type": "error",
          "ename": "IndexError",
          "evalue": "single positional indexer is out-of-bounds",
          "traceback": [
            "\u001b[1;31m---------------------------------------------------------------------------\u001b[0m",
            "\u001b[1;31mIndexError\u001b[0m                                Traceback (most recent call last)",
            "\u001b[1;32m<ipython-input-28-e91d411323c7>\u001b[0m in \u001b[0;36m<module>\u001b[1;34m()\u001b[0m\n\u001b[1;32m----> 1\u001b[1;33m \u001b[0mprint\u001b[0m\u001b[1;33m(\u001b[0m\u001b[0mdf\u001b[0m\u001b[1;33m.\u001b[0m\u001b[0miloc\u001b[0m\u001b[1;33m[\u001b[0m\u001b[1;36m1710\u001b[0m\u001b[1;33m]\u001b[0m\u001b[1;33m)\u001b[0m\u001b[1;33m\u001b[0m\u001b[0m\n\u001b[0m",
            "\u001b[1;32m~\\Anaconda3\\lib\\site-packages\\pandas\\core\\indexing.py\u001b[0m in \u001b[0;36m__getitem__\u001b[1;34m(self, key)\u001b[0m\n\u001b[0;32m   1476\u001b[0m \u001b[1;33m\u001b[0m\u001b[0m\n\u001b[0;32m   1477\u001b[0m             \u001b[0mmaybe_callable\u001b[0m \u001b[1;33m=\u001b[0m \u001b[0mcom\u001b[0m\u001b[1;33m.\u001b[0m\u001b[0m_apply_if_callable\u001b[0m\u001b[1;33m(\u001b[0m\u001b[0mkey\u001b[0m\u001b[1;33m,\u001b[0m \u001b[0mself\u001b[0m\u001b[1;33m.\u001b[0m\u001b[0mobj\u001b[0m\u001b[1;33m)\u001b[0m\u001b[1;33m\u001b[0m\u001b[0m\n\u001b[1;32m-> 1478\u001b[1;33m             \u001b[1;32mreturn\u001b[0m \u001b[0mself\u001b[0m\u001b[1;33m.\u001b[0m\u001b[0m_getitem_axis\u001b[0m\u001b[1;33m(\u001b[0m\u001b[0mmaybe_callable\u001b[0m\u001b[1;33m,\u001b[0m \u001b[0maxis\u001b[0m\u001b[1;33m=\u001b[0m\u001b[0maxis\u001b[0m\u001b[1;33m)\u001b[0m\u001b[1;33m\u001b[0m\u001b[0m\n\u001b[0m\u001b[0;32m   1479\u001b[0m \u001b[1;33m\u001b[0m\u001b[0m\n\u001b[0;32m   1480\u001b[0m     \u001b[1;32mdef\u001b[0m \u001b[0m_is_scalar_access\u001b[0m\u001b[1;33m(\u001b[0m\u001b[0mself\u001b[0m\u001b[1;33m,\u001b[0m \u001b[0mkey\u001b[0m\u001b[1;33m)\u001b[0m\u001b[1;33m:\u001b[0m\u001b[1;33m\u001b[0m\u001b[0m\n",
            "\u001b[1;32m~\\Anaconda3\\lib\\site-packages\\pandas\\core\\indexing.py\u001b[0m in \u001b[0;36m_getitem_axis\u001b[1;34m(self, key, axis)\u001b[0m\n\u001b[0;32m   2100\u001b[0m \u001b[1;33m\u001b[0m\u001b[0m\n\u001b[0;32m   2101\u001b[0m             \u001b[1;31m# validate the location\u001b[0m\u001b[1;33m\u001b[0m\u001b[1;33m\u001b[0m\u001b[0m\n\u001b[1;32m-> 2102\u001b[1;33m             \u001b[0mself\u001b[0m\u001b[1;33m.\u001b[0m\u001b[0m_validate_integer\u001b[0m\u001b[1;33m(\u001b[0m\u001b[0mkey\u001b[0m\u001b[1;33m,\u001b[0m \u001b[0maxis\u001b[0m\u001b[1;33m)\u001b[0m\u001b[1;33m\u001b[0m\u001b[0m\n\u001b[0m\u001b[0;32m   2103\u001b[0m \u001b[1;33m\u001b[0m\u001b[0m\n\u001b[0;32m   2104\u001b[0m             \u001b[1;32mreturn\u001b[0m \u001b[0mself\u001b[0m\u001b[1;33m.\u001b[0m\u001b[0m_get_loc\u001b[0m\u001b[1;33m(\u001b[0m\u001b[0mkey\u001b[0m\u001b[1;33m,\u001b[0m \u001b[0maxis\u001b[0m\u001b[1;33m=\u001b[0m\u001b[0maxis\u001b[0m\u001b[1;33m)\u001b[0m\u001b[1;33m\u001b[0m\u001b[0m\n",
            "\u001b[1;32m~\\Anaconda3\\lib\\site-packages\\pandas\\core\\indexing.py\u001b[0m in \u001b[0;36m_validate_integer\u001b[1;34m(self, key, axis)\u001b[0m\n\u001b[0;32m   2007\u001b[0m         \u001b[0ml\u001b[0m \u001b[1;33m=\u001b[0m \u001b[0mlen\u001b[0m\u001b[1;33m(\u001b[0m\u001b[0max\u001b[0m\u001b[1;33m)\u001b[0m\u001b[1;33m\u001b[0m\u001b[0m\n\u001b[0;32m   2008\u001b[0m         \u001b[1;32mif\u001b[0m \u001b[0mkey\u001b[0m \u001b[1;33m>=\u001b[0m \u001b[0ml\u001b[0m \u001b[1;32mor\u001b[0m \u001b[0mkey\u001b[0m \u001b[1;33m<\u001b[0m \u001b[1;33m-\u001b[0m\u001b[0ml\u001b[0m\u001b[1;33m:\u001b[0m\u001b[1;33m\u001b[0m\u001b[0m\n\u001b[1;32m-> 2009\u001b[1;33m             \u001b[1;32mraise\u001b[0m \u001b[0mIndexError\u001b[0m\u001b[1;33m(\u001b[0m\u001b[1;34m\"single positional indexer is out-of-bounds\"\u001b[0m\u001b[1;33m)\u001b[0m\u001b[1;33m\u001b[0m\u001b[0m\n\u001b[0m\u001b[0;32m   2010\u001b[0m \u001b[1;33m\u001b[0m\u001b[0m\n\u001b[0;32m   2011\u001b[0m     \u001b[1;32mdef\u001b[0m \u001b[0m_getitem_tuple\u001b[0m\u001b[1;33m(\u001b[0m\u001b[0mself\u001b[0m\u001b[1;33m,\u001b[0m \u001b[0mtup\u001b[0m\u001b[1;33m)\u001b[0m\u001b[1;33m:\u001b[0m\u001b[1;33m\u001b[0m\u001b[0m\n",
            "\u001b[1;31mIndexError\u001b[0m: single positional indexer is out-of-bounds"
          ]
        }
      ]
    },
    {
      "cell_type": "code",
      "metadata": {
        "id": "7xM7SUM-g-8g",
        "colab_type": "code",
        "outputId": "2b8ccc04-679c-4c4e-ee80-3b92785626cc",
        "colab": {}
      },
      "source": [
        "print(df.iloc[[0, 99, 999]])"
      ],
      "execution_count": 0,
      "outputs": [
        {
          "output_type": "stream",
          "text": [
            "         country continent  year  lifeExp       pop    gdpPercap\n",
            "0    Afghanistan      Asia  1952   28.801   8425333   779.445314\n",
            "99    Bangladesh      Asia  1967   43.453  62821884   721.186086\n",
            "999     Mongolia      Asia  1967   51.253   1149500  1226.041130\n"
          ],
          "name": "stdout"
        }
      ]
    },
    {
      "cell_type": "markdown",
      "metadata": {
        "id": "CFzcWH3ag-8i",
        "colab_type": "text"
      },
      "source": [
        "# 직접 해보세요!\n",
        "## 데이터 추출하기 ─ 슬라이싱 구문, range 메서드(39쪽)\n",
        "### 1. 슬라이싱 구문으로 데이터 추출하기"
      ]
    },
    {
      "cell_type": "code",
      "metadata": {
        "id": "pEIHNjgwg-8i",
        "colab_type": "code",
        "outputId": "050c367a-d68e-4666-9614-8875d4c4d0cc",
        "colab": {}
      },
      "source": [
        "subset = df.loc[:, ['year', 'pop']] \n",
        "print(subset.head())"
      ],
      "execution_count": 0,
      "outputs": [
        {
          "output_type": "stream",
          "text": [
            "   year       pop\n",
            "0  1952   8425333\n",
            "1  1957   9240934\n",
            "2  1962  10267083\n",
            "3  1967  11537966\n",
            "4  1972  13079460\n"
          ],
          "name": "stdout"
        }
      ]
    },
    {
      "cell_type": "code",
      "metadata": {
        "id": "vMFoYstag-8k",
        "colab_type": "code",
        "outputId": "077831b7-7ab5-4a71-d103-e6863db3e74b",
        "colab": {}
      },
      "source": [
        "subset = df.iloc[:, [2, 4, -1]] \n",
        "print(subset.head())"
      ],
      "execution_count": 0,
      "outputs": [
        {
          "output_type": "stream",
          "text": [
            "   year       pop   gdpPercap\n",
            "0  1952   8425333  779.445314\n",
            "1  1957   9240934  820.853030\n",
            "2  1962  10267083  853.100710\n",
            "3  1967  11537966  836.197138\n",
            "4  1972  13079460  739.981106\n"
          ],
          "name": "stdout"
        }
      ]
    },
    {
      "cell_type": "markdown",
      "metadata": {
        "id": "89Dgm5Aog-8m",
        "colab_type": "text"
      },
      "source": [
        "### 2. range 메서드로 원하는 데이터 추출하기"
      ]
    },
    {
      "cell_type": "code",
      "metadata": {
        "id": "DdxwdeCGg-8m",
        "colab_type": "code",
        "outputId": "d6a7113f-2983-4d28-b7a2-1021c002e2c2",
        "colab": {}
      },
      "source": [
        "small_range = list(range(5)) \n",
        "print(small_range)"
      ],
      "execution_count": 0,
      "outputs": [
        {
          "output_type": "stream",
          "text": [
            "[0, 1, 2, 3, 4]\n"
          ],
          "name": "stdout"
        }
      ]
    },
    {
      "cell_type": "code",
      "metadata": {
        "id": "5bgM6ZVJg-8o",
        "colab_type": "code",
        "outputId": "a011a474-f943-4d8f-dfa8-ff1c74671125",
        "colab": {}
      },
      "source": [
        "print(type(small_range))"
      ],
      "execution_count": 0,
      "outputs": [
        {
          "output_type": "stream",
          "text": [
            "<class 'list'>\n"
          ],
          "name": "stdout"
        }
      ]
    },
    {
      "cell_type": "code",
      "metadata": {
        "id": "QhxJuLq2g-8q",
        "colab_type": "code",
        "outputId": "9bbe3848-94a2-4bf9-b775-de16d411f3bf",
        "colab": {}
      },
      "source": [
        "subset = df.iloc[:, small_range] \n",
        "print(subset.head())"
      ],
      "execution_count": 0,
      "outputs": [
        {
          "output_type": "stream",
          "text": [
            "       country continent  year  lifeExp       pop\n",
            "0  Afghanistan      Asia  1952   28.801   8425333\n",
            "1  Afghanistan      Asia  1957   30.332   9240934\n",
            "2  Afghanistan      Asia  1962   31.997  10267083\n",
            "3  Afghanistan      Asia  1967   34.020  11537966\n",
            "4  Afghanistan      Asia  1972   36.088  13079460\n"
          ],
          "name": "stdout"
        }
      ]
    },
    {
      "cell_type": "code",
      "metadata": {
        "id": "2DmRWCkzg-8s",
        "colab_type": "code",
        "outputId": "eaf81027-07f1-4cce-bf7b-70c21bcea0e7",
        "colab": {}
      },
      "source": [
        "small_range = list(range(3, 6)) \n",
        "print(small_range)"
      ],
      "execution_count": 0,
      "outputs": [
        {
          "output_type": "stream",
          "text": [
            "[3, 4, 5]\n"
          ],
          "name": "stdout"
        }
      ]
    },
    {
      "cell_type": "code",
      "metadata": {
        "id": "cChCX_P4g-8u",
        "colab_type": "code",
        "outputId": "3cc42baf-c4c3-4c8a-afc9-ad4247a154c6",
        "colab": {}
      },
      "source": [
        "subset = df.iloc[:, small_range] \n",
        "print(subset.head())"
      ],
      "execution_count": 0,
      "outputs": [
        {
          "output_type": "stream",
          "text": [
            "   lifeExp       pop   gdpPercap\n",
            "0   28.801   8425333  779.445314\n",
            "1   30.332   9240934  820.853030\n",
            "2   31.997  10267083  853.100710\n",
            "3   34.020  11537966  836.197138\n",
            "4   36.088  13079460  739.981106\n"
          ],
          "name": "stdout"
        }
      ]
    },
    {
      "cell_type": "code",
      "metadata": {
        "id": "4E6P8EE8g-8w",
        "colab_type": "code",
        "outputId": "6576578a-3147-4b5a-b617-5f00652c48cd",
        "colab": {}
      },
      "source": [
        "small_range = list(range(0, 6, 2)) \n",
        "subset = df.iloc[:, small_range] \n",
        "print(subset.head())"
      ],
      "execution_count": 0,
      "outputs": [
        {
          "output_type": "stream",
          "text": [
            "       country  year       pop\n",
            "0  Afghanistan  1952   8425333\n",
            "1  Afghanistan  1957   9240934\n",
            "2  Afghanistan  1962  10267083\n",
            "3  Afghanistan  1967  11537966\n",
            "4  Afghanistan  1972  13079460\n"
          ],
          "name": "stdout"
        }
      ]
    },
    {
      "cell_type": "markdown",
      "metadata": {
        "id": "0Ef6t9Xtg-8y",
        "colab_type": "text"
      },
      "source": [
        "### 4. 슬라이싱, range 메서드 비교하기"
      ]
    },
    {
      "cell_type": "code",
      "metadata": {
        "id": "HRjtIiNJg-8z",
        "colab_type": "code",
        "outputId": "12c8d6bd-0161-4cad-9051-cc4f936d2e1c",
        "colab": {}
      },
      "source": [
        "subset = df.iloc[:, :3] \n",
        "print(subset.head())"
      ],
      "execution_count": 0,
      "outputs": [
        {
          "output_type": "stream",
          "text": [
            "       country continent  year\n",
            "0  Afghanistan      Asia  1952\n",
            "1  Afghanistan      Asia  1957\n",
            "2  Afghanistan      Asia  1962\n",
            "3  Afghanistan      Asia  1967\n",
            "4  Afghanistan      Asia  1972\n"
          ],
          "name": "stdout"
        }
      ]
    },
    {
      "cell_type": "code",
      "metadata": {
        "id": "TGph9NOBg-81",
        "colab_type": "code",
        "outputId": "4aacf928-5142-40d1-8f06-7ca2d1a0bcc6",
        "colab": {}
      },
      "source": [
        "subset = df.iloc[:, 0:6:2] \n",
        "print(subset.head())"
      ],
      "execution_count": 0,
      "outputs": [
        {
          "output_type": "stream",
          "text": [
            "       country  year       pop\n",
            "0  Afghanistan  1952   8425333\n",
            "1  Afghanistan  1957   9240934\n",
            "2  Afghanistan  1962  10267083\n",
            "3  Afghanistan  1967  11537966\n",
            "4  Afghanistan  1972  13079460\n"
          ],
          "name": "stdout"
        }
      ]
    },
    {
      "cell_type": "markdown",
      "metadata": {
        "id": "bNbZtI8Vg-82",
        "colab_type": "text"
      },
      "source": [
        "### 5. loc, iloc 속성 자유자재로 사용하기"
      ]
    },
    {
      "cell_type": "code",
      "metadata": {
        "id": "P8Yze35Ug-83",
        "colab_type": "code",
        "outputId": "93c2e701-2441-43c5-97d4-4c075518eb9c",
        "colab": {}
      },
      "source": [
        "print(df.iloc[[0, 99, 999], [0, 3, 5]])"
      ],
      "execution_count": 0,
      "outputs": [
        {
          "output_type": "stream",
          "text": [
            "         country  lifeExp    gdpPercap\n",
            "0    Afghanistan   28.801   779.445314\n",
            "99    Bangladesh   43.453   721.186086\n",
            "999     Mongolia   51.253  1226.041130\n"
          ],
          "name": "stdout"
        }
      ]
    },
    {
      "cell_type": "code",
      "metadata": {
        "id": "R0-_COOYg-86",
        "colab_type": "code",
        "outputId": "b5641183-933b-4ee9-bd89-5e948d2aa378",
        "colab": {}
      },
      "source": [
        "print(df.loc[[0, 99, 999], ['country', 'lifeExp', 'gdpPercap']])"
      ],
      "execution_count": 0,
      "outputs": [
        {
          "output_type": "stream",
          "text": [
            "         country  lifeExp    gdpPercap\n",
            "0    Afghanistan   28.801   779.445314\n",
            "99    Bangladesh   43.453   721.186086\n",
            "999     Mongolia   51.253  1226.041130\n"
          ],
          "name": "stdout"
        }
      ]
    },
    {
      "cell_type": "code",
      "metadata": {
        "id": "lRD7VGp7g-88",
        "colab_type": "code",
        "outputId": "d2afe932-62b7-4dd2-e735-3e8e44a6479a",
        "colab": {}
      },
      "source": [
        "print(df.loc[10:13, ['country', 'lifeExp', 'gdpPercap']])"
      ],
      "execution_count": 0,
      "outputs": [
        {
          "output_type": "stream",
          "text": [
            "        country  lifeExp    gdpPercap\n",
            "10  Afghanistan   42.129   726.734055\n",
            "11  Afghanistan   43.828   974.580338\n",
            "12      Albania   55.230  1601.056136\n",
            "13      Albania   59.280  1942.284244\n"
          ],
          "name": "stdout"
        }
      ]
    },
    {
      "cell_type": "markdown",
      "metadata": {
        "id": "TgeWStbag-8-",
        "colab_type": "text"
      },
      "source": [
        "# 직접 해보세요!\n",
        "## 그룹화한 데이터의 평균 구하기(44쪽)\n",
        "### 1. lifeExp 열을 연도별로 그룹화하여 평균 계산하기"
      ]
    },
    {
      "cell_type": "code",
      "metadata": {
        "scrolled": true,
        "id": "3S8GaMBQg-8_",
        "colab_type": "code",
        "colab": {}
      },
      "source": [
        "# print(df.head(n=10))"
      ],
      "execution_count": 0,
      "outputs": []
    },
    {
      "cell_type": "code",
      "metadata": {
        "id": "6tlWdkfng-9B",
        "colab_type": "code",
        "outputId": "457bb1cf-b1c6-44e4-aef5-3766e6d7bffb",
        "colab": {}
      },
      "source": [
        "print(df.groupby('year')['lifeExp'].mean())"
      ],
      "execution_count": 0,
      "outputs": [
        {
          "output_type": "stream",
          "text": [
            "year\n",
            "1952    49.057620\n",
            "1957    51.507401\n",
            "1962    53.609249\n",
            "1967    55.678290\n",
            "1972    57.647386\n",
            "1977    59.570157\n",
            "1982    61.533197\n",
            "1987    63.212613\n",
            "1992    64.160338\n",
            "1997    65.014676\n",
            "2002    65.694923\n",
            "2007    67.007423\n",
            "Name: lifeExp, dtype: float64\n"
          ],
          "name": "stdout"
        }
      ]
    },
    {
      "cell_type": "code",
      "metadata": {
        "id": "TedjE65tg-9D",
        "colab_type": "code",
        "outputId": "332751ba-dc00-4a9e-ef23-80f2f76c60e4",
        "colab": {}
      },
      "source": [
        "grouped_year_df = df.groupby('year')\n",
        "print(type(grouped_year_df))"
      ],
      "execution_count": 0,
      "outputs": [
        {
          "output_type": "stream",
          "text": [
            "<class 'pandas.core.groupby.groupby.DataFrameGroupBy'>\n"
          ],
          "name": "stdout"
        }
      ]
    },
    {
      "cell_type": "code",
      "metadata": {
        "id": "EDovUlp8g-9F",
        "colab_type": "code",
        "outputId": "cff7ec56-642c-4e95-b161-a48ad29dfa5d",
        "colab": {}
      },
      "source": [
        "print(grouped_year_df)"
      ],
      "execution_count": 0,
      "outputs": [
        {
          "output_type": "stream",
          "text": [
            "<pandas.core.groupby.groupby.DataFrameGroupBy object at 0x0000028E8CCD2278>\n"
          ],
          "name": "stdout"
        }
      ]
    },
    {
      "cell_type": "code",
      "metadata": {
        "id": "jl0F_I-ug-9H",
        "colab_type": "code",
        "outputId": "91bc72de-a478-45af-e1c0-339e51064e4c",
        "colab": {}
      },
      "source": [
        "grouped_year_df_lifeExp = grouped_year_df['lifeExp'] \n",
        "print(type(grouped_year_df_lifeExp))"
      ],
      "execution_count": 0,
      "outputs": [
        {
          "output_type": "stream",
          "text": [
            "<class 'pandas.core.groupby.groupby.SeriesGroupBy'>\n"
          ],
          "name": "stdout"
        }
      ]
    },
    {
      "cell_type": "code",
      "metadata": {
        "id": "Lg5rvOhhg-9I",
        "colab_type": "code",
        "outputId": "d6a3d6a1-797d-4880-c923-1a69d02d1abd",
        "colab": {}
      },
      "source": [
        "mean_lifeExp_by_year = grouped_year_df_lifeExp.mean() \n",
        "print(mean_lifeExp_by_year)"
      ],
      "execution_count": 0,
      "outputs": [
        {
          "output_type": "stream",
          "text": [
            "year\n",
            "1952    49.057620\n",
            "1957    51.507401\n",
            "1962    53.609249\n",
            "1967    55.678290\n",
            "1972    57.647386\n",
            "1977    59.570157\n",
            "1982    61.533197\n",
            "1987    63.212613\n",
            "1992    64.160338\n",
            "1997    65.014676\n",
            "2002    65.694923\n",
            "2007    67.007423\n",
            "Name: lifeExp, dtype: float64\n"
          ],
          "name": "stdout"
        }
      ]
    },
    {
      "cell_type": "markdown",
      "metadata": {
        "id": "PNYawoc2g-9K",
        "colab_type": "text"
      },
      "source": [
        "### 6. lifeExp, gdpPercap 열의 평균값을 연도, 지역별로 그룹화하여 한 번에 계산하기"
      ]
    },
    {
      "cell_type": "code",
      "metadata": {
        "collapsed": true,
        "id": "3ylYle5Ug-9K",
        "colab_type": "code",
        "outputId": "31b9f052-9cc7-4892-ccc2-5f01403011ad",
        "colab": {}
      },
      "source": [
        "multi_group_var = df.groupby(['year', 'continent'])[['lifeExp', 'gdpPercap']].mean() \n",
        "print(multi_group_var)"
      ],
      "execution_count": 0,
      "outputs": [
        {
          "output_type": "stream",
          "text": [
            "                  lifeExp     gdpPercap\n",
            "year continent                         \n",
            "1952 Africa     39.135500   1252.572466\n",
            "     Americas   53.279840   4079.062552\n",
            "     Asia       46.314394   5195.484004\n",
            "     Europe     64.408500   5661.057435\n",
            "     Oceania    69.255000  10298.085650\n",
            "1957 Africa     41.266346   1385.236062\n",
            "     Americas   55.960280   4616.043733\n",
            "     Asia       49.318544   5787.732940\n",
            "     Europe     66.703067   6963.012816\n",
            "     Oceania    70.295000  11598.522455\n",
            "1962 Africa     43.319442   1598.078825\n",
            "     Americas   58.398760   4901.541870\n",
            "     Asia       51.563223   5729.369625\n",
            "     Europe     68.539233   8365.486814\n",
            "     Oceania    71.085000  12696.452430\n",
            "1967 Africa     45.334538   2050.363801\n",
            "     Americas   60.410920   5668.253496\n",
            "     Asia       54.663640   5971.173374\n",
            "     Europe     69.737600  10143.823757\n",
            "     Oceania    71.310000  14495.021790\n",
            "1972 Africa     47.450942   2339.615674\n",
            "     Americas   62.394920   6491.334139\n",
            "     Asia       57.319269   8187.468699\n",
            "     Europe     70.775033  12479.575246\n",
            "     Oceania    71.910000  16417.333380\n",
            "1977 Africa     49.580423   2585.938508\n",
            "     Americas   64.391560   7352.007126\n",
            "     Asia       59.610556   7791.314020\n",
            "     Europe     71.937767  14283.979110\n",
            "     Oceania    72.855000  17283.957605\n",
            "1982 Africa     51.592865   2481.592960\n",
            "     Americas   66.228840   7506.737088\n",
            "     Asia       62.617939   7434.135157\n",
            "     Europe     72.806400  15617.896551\n",
            "     Oceania    74.290000  18554.709840\n",
            "1987 Africa     53.344788   2282.668991\n",
            "     Americas   68.090720   7793.400261\n",
            "     Asia       64.851182   7608.226508\n",
            "     Europe     73.642167  17214.310727\n",
            "     Oceania    75.320000  20448.040160\n",
            "1992 Africa     53.629577   2281.810333\n",
            "     Americas   69.568360   8044.934406\n",
            "     Asia       66.537212   8639.690248\n",
            "     Europe     74.440100  17061.568084\n",
            "     Oceania    76.945000  20894.045885\n",
            "1997 Africa     53.598269   2378.759555\n",
            "     Americas   71.150480   8889.300863\n",
            "     Asia       68.020515   9834.093295\n",
            "     Europe     75.505167  19076.781802\n",
            "     Oceania    78.190000  24024.175170\n",
            "2002 Africa     53.325231   2599.385159\n",
            "     Americas   72.422040   9287.677107\n",
            "     Asia       69.233879  10174.090397\n",
            "     Europe     76.700600  21711.732422\n",
            "     Oceania    79.740000  26938.778040\n",
            "2007 Africa     54.806038   3089.032605\n",
            "     Americas   73.608120  11003.031625\n",
            "     Asia       70.728485  12473.026870\n",
            "     Europe     77.648600  25054.481636\n",
            "     Oceania    80.719500  29810.188275\n"
          ],
          "name": "stdout"
        }
      ]
    },
    {
      "cell_type": "code",
      "metadata": {
        "id": "PbIXApP_g-9M",
        "colab_type": "code",
        "outputId": "e27037bf-cea7-48f0-ff90-bb47babf8d66",
        "colab": {}
      },
      "source": [
        "print(type(multi_group_var))"
      ],
      "execution_count": 0,
      "outputs": [
        {
          "output_type": "stream",
          "text": [
            "<class 'pandas.core.frame.DataFrame'>\n"
          ],
          "name": "stdout"
        }
      ]
    },
    {
      "cell_type": "markdown",
      "metadata": {
        "id": "uZVSJOWRg-9N",
        "colab_type": "text"
      },
      "source": [
        "### 7. 그룹화한 데이터의 개수 세기"
      ]
    },
    {
      "cell_type": "code",
      "metadata": {
        "id": "RiLlcBs5g-9O",
        "colab_type": "code",
        "outputId": "a8ca8bd1-78f9-4217-aa34-311f20e1c726",
        "colab": {}
      },
      "source": [
        "print(df.groupby('continent')['country'].nunique())"
      ],
      "execution_count": 0,
      "outputs": [
        {
          "output_type": "stream",
          "text": [
            "continent\n",
            "Africa      52\n",
            "Americas    25\n",
            "Asia        33\n",
            "Europe      30\n",
            "Oceania      2\n",
            "Name: country, dtype: int64\n"
          ],
          "name": "stdout"
        }
      ]
    },
    {
      "cell_type": "markdown",
      "metadata": {
        "id": "RYcBz7Jyg-9R",
        "colab_type": "text"
      },
      "source": [
        "# 직접 해보세요!\n",
        "## 그래프 그리기(48쪽)"
      ]
    },
    {
      "cell_type": "code",
      "metadata": {
        "id": "NW5X6d8jg-9R",
        "colab_type": "code",
        "colab": {}
      },
      "source": [
        "%matplotlib inline\n",
        "import matplotlib.pyplot as plt"
      ],
      "execution_count": 0,
      "outputs": []
    },
    {
      "cell_type": "code",
      "metadata": {
        "id": "zsx5009yg-9U",
        "colab_type": "code",
        "outputId": "d5f4adbf-cc9f-4fa7-99d0-d6ed8063ddf4",
        "colab": {}
      },
      "source": [
        "global_yearly_life_expectancy = df.groupby('year')['lifeExp'].mean() \n",
        "print(global_yearly_life_expectancy)"
      ],
      "execution_count": 0,
      "outputs": [
        {
          "output_type": "stream",
          "text": [
            "year\n",
            "1952    49.057620\n",
            "1957    51.507401\n",
            "1962    53.609249\n",
            "1967    55.678290\n",
            "1972    57.647386\n",
            "1977    59.570157\n",
            "1982    61.533197\n",
            "1987    63.212613\n",
            "1992    64.160338\n",
            "1997    65.014676\n",
            "2002    65.694923\n",
            "2007    67.007423\n",
            "Name: lifeExp, dtype: float64\n"
          ],
          "name": "stdout"
        }
      ]
    },
    {
      "cell_type": "code",
      "metadata": {
        "id": "C34zKgvSg-9W",
        "colab_type": "code",
        "outputId": "ce7396a8-8043-4f17-8a71-7a87b3d59da2",
        "colab": {}
      },
      "source": [
        "global_yearly_life_expectancy.plot()"
      ],
      "execution_count": 0,
      "outputs": [
        {
          "output_type": "execute_result",
          "data": {
            "text/plain": [
              "<matplotlib.axes._subplots.AxesSubplot at 0x28e8d71f908>"
            ]
          },
          "metadata": {
            "tags": []
          },
          "execution_count": 22
        },
        {
          "output_type": "display_data",
          "data": {
            "image/png": "[encoded data removed]",
            "text/plain": [
              "<Figure size 432x288 with 1 Axes>"
            ]
          },
          "metadata": {
            "tags": []
          }
        }
      ]
    }
  ]
}